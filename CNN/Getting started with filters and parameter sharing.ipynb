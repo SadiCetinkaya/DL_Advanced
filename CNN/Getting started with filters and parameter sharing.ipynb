{
 "cells": [
  {
   "cell_type": "code",
   "execution_count": 1,
   "metadata": {},
   "outputs": [
    {
     "name": "stderr",
     "output_type": "stream",
     "text": [
      "Using TensorFlow backend.\n"
     ]
    }
   ],
   "source": [
    "import numpy as np\n",
    "from matplotlib import pyplot as plt\n",
    "\n",
    "from keras.utils.np_utils import to_categorical\n",
    "from keras.models import Sequential\n",
    "from keras.layers.core import Dense, Dropout, Flatten\n",
    "from keras.layers import Conv2D\n",
    "from keras.callbacks import EarlyStopping\n",
    "from keras.datasets import mnist\n"
   ]
  },
  {
   "cell_type": "code",
   "execution_count": 2,
   "metadata": {},
   "outputs": [],
   "source": [
    "(X_train, y_train), (X_test, y_test) = mnist.load_data()"
   ]
  },
  {
   "cell_type": "code",
   "execution_count": 3,
   "metadata": {},
   "outputs": [],
   "source": [
    "img_rows, img_cols = X_train[0].shape[0], X_train[0].shape[1]\n",
    "X_train = X_train.reshape(X_train.shape[0], img_rows, img_cols, 1)\n",
    "X_test = X_test.reshape(X_test.shape[0], img_rows, img_cols, 1)\n",
    "input_shape = (img_rows, img_cols, 1)"
   ]
  },
  {
   "cell_type": "code",
   "execution_count": 4,
   "metadata": {},
   "outputs": [],
   "source": [
    "X_train = X_train.astype('float32')/255.\n",
    "X_test = X_test.astype('float32')/255."
   ]
  },
  {
   "cell_type": "code",
   "execution_count": 5,
   "metadata": {},
   "outputs": [],
   "source": [
    "n_classes = len(set(y_train))\n",
    "y_train = to_categorical(y_train, n_classes)\n",
    "y_test = to_categorical(y_test, n_classes)"
   ]
  },
  {
   "cell_type": "code",
   "execution_count": 6,
   "metadata": {},
   "outputs": [],
   "source": [
    "model = Sequential()\n",
    "model.add(Conv2D(64, kernel_size=(3, 3), activation='relu', input_shape=input_shape))\n",
    "model.add(Conv2D(128, kernel_size=(3, 3), activation='relu'))\n",
    "model.add(Conv2D(256, kernel_size=(3, 3), activation='relu'))\n",
    "model.add(Dropout(0.5))\n",
    "model.add(Flatten())\n",
    "model.add(Dense(128, activation='relu'))\n",
    "model.add(Dropout(0.5))\n",
    "model.add(Dense(n_classes, activation='softmax'))\n",
    "\n",
    "model.compile(loss='categorical_crossentropy', optimizer='adam', metrics=['accuracy'])"
   ]
  },
  {
   "cell_type": "code",
   "execution_count": 7,
   "metadata": {},
   "outputs": [],
   "source": [
    "callbacks = [EarlyStopping(monitor='val_acc', patience=5)]"
   ]
  },
  {
   "cell_type": "code",
   "execution_count": 8,
   "metadata": {},
   "outputs": [],
   "source": [
    "batch_size = 128\n",
    "n_epochs = 200"
   ]
  },
  {
   "cell_type": "code",
   "execution_count": 9,
   "metadata": {},
   "outputs": [
    {
     "name": "stdout",
     "output_type": "stream",
     "text": [
      "Train on 48000 samples, validate on 12000 samples\n",
      "Epoch 1/200\n",
      "48000/48000 [==============================] - 47s - loss: 0.1880 - acc: 0.9438 - val_loss: 0.0569 - val_acc: 0.9834\n",
      "Epoch 2/200\n",
      "48000/48000 [==============================] - 45s - loss: 0.0707 - acc: 0.9789 - val_loss: 0.0423 - val_acc: 0.9873\n",
      "Epoch 3/200\n",
      "48000/48000 [==============================] - 45s - loss: 0.0516 - acc: 0.9841 - val_loss: 0.0366 - val_acc: 0.9896\n",
      "Epoch 4/200\n",
      "48000/48000 [==============================] - 45s - loss: 0.0403 - acc: 0.9882 - val_loss: 0.0389 - val_acc: 0.9893\n",
      "Epoch 5/200\n",
      "48000/48000 [==============================] - 45s - loss: 0.0315 - acc: 0.9901 - val_loss: 0.0378 - val_acc: 0.9908\n",
      "Epoch 6/200\n",
      "48000/48000 [==============================] - 45s - loss: 0.0263 - acc: 0.9914 - val_loss: 0.0352 - val_acc: 0.9902\n",
      "Epoch 7/200\n",
      "48000/48000 [==============================] - 45s - loss: 0.0254 - acc: 0.9919 - val_loss: 0.0340 - val_acc: 0.9917\n",
      "Epoch 8/200\n",
      "48000/48000 [==============================] - 45s - loss: 0.0203 - acc: 0.9936 - val_loss: 0.0414 - val_acc: 0.9913\n",
      "Epoch 9/200\n",
      "48000/48000 [==============================] - 45s - loss: 0.0205 - acc: 0.9935 - val_loss: 0.0437 - val_acc: 0.9912\n",
      "Epoch 10/200\n",
      "48000/48000 [==============================] - 45s - loss: 0.0161 - acc: 0.9945 - val_loss: 0.0433 - val_acc: 0.9905\n",
      "Epoch 11/200\n",
      "48000/48000 [==============================] - 45s - loss: 0.0175 - acc: 0.9946 - val_loss: 0.0330 - val_acc: 0.9928\n",
      "Epoch 12/200\n",
      "48000/48000 [==============================] - 45s - loss: 0.0117 - acc: 0.9960 - val_loss: 0.0420 - val_acc: 0.9921\n",
      "Epoch 13/200\n",
      "48000/48000 [==============================] - 45s - loss: 0.0141 - acc: 0.9954 - val_loss: 0.0411 - val_acc: 0.9918\n",
      "Epoch 14/200\n",
      "48000/48000 [==============================] - 45s - loss: 0.0119 - acc: 0.9960 - val_loss: 0.0500 - val_acc: 0.9899\n",
      "Epoch 15/200\n",
      "48000/48000 [==============================] - 45s - loss: 0.0122 - acc: 0.9958 - val_loss: 0.0415 - val_acc: 0.9919\n",
      "Epoch 16/200\n",
      "48000/48000 [==============================] - 45s - loss: 0.0109 - acc: 0.9964 - val_loss: 0.0416 - val_acc: 0.9913\n",
      "Epoch 17/200\n",
      "48000/48000 [==============================] - 45s - loss: 0.0091 - acc: 0.9971 - val_loss: 0.0376 - val_acc: 0.9927\n"
     ]
    },
    {
     "data": {
      "text/plain": [
       "<keras.callbacks.History at 0x7fe0eef93a20>"
      ]
     },
     "execution_count": 9,
     "metadata": {},
     "output_type": "execute_result"
    }
   ],
   "source": [
    "model.fit(X_train, y_train, batch_size=batch_size, epochs=n_epochs, verbose=1, validation_split=0.2, callbacks=callbacks)"
   ]
  },
  {
   "cell_type": "code",
   "execution_count": 10,
   "metadata": {},
   "outputs": [
    {
     "name": "stdout",
     "output_type": "stream",
     "text": [
      "Test loss: 0.0266033417821\n",
      "Test accuracy: 0.993\n"
     ]
    },
    {
     "data": {
      "image/png": "[encoded data removed]",
      "text/plain": [
       "<matplotlib.figure.Figure at 0x7fe0f1245c50>"
      ]
     },
     "metadata": {},
     "output_type": "display_data"
    }
   ],
   "source": [
    "score = model.evaluate(X_test, y_test, verbose=0)\n",
    "print('Test loss:', score[0])\n",
    "print('Test accuracy:', score[1])\n",
    "\n",
    "# Extract predictions\n",
    "preds = model.predict(X_test)\n",
    "\n",
    "n_examples = 10\n",
    "plt.figure(figsize=(15, 15))\n",
    "for i in range(n_examples):\n",
    "    ax = plt.subplot(2, n_examples, i + 1)\n",
    "    plt.imshow(X_test[i, :, :, 0], cmap='gray')\n",
    "    plt.title(\"Label: {}\\nPredicted: {}\".format(np.argmax(y_test[i]), np.argmax(preds[i])))\n",
    "    plt.axis('off')\n",
    "    \n",
    "plt.show()"
   ]
  },
  {
   "cell_type": "code",
   "execution_count": 11,
   "metadata": {},
   "outputs": [
    {
     "data": {
      "image/png": "[encoded data removed]",
      "text/plain": [
       "<matplotlib.figure.Figure at 0x7fe0eef0fbe0>"
      ]
     },
     "metadata": {},
     "output_type": "display_data"
    }
   ],
   "source": [
    "plt.figure(figsize=(15, 15))\n",
    "\n",
    "j=1\n",
    "for i in range(len(y_test)):\n",
    "    if(j>10):\n",
    "        break\n",
    "    label = np.argmax(y_test[i])\n",
    "    pred = np.argmax(preds[i])\n",
    "    if label != pred:        \n",
    "        ax = plt.subplot(2, n_examples, j)\n",
    "        plt.imshow(X_test[i, :, :, 0], cmap='gray')\n",
    "        plt.title(\"Label: {}\\nPredicted: {}\".format(label, pred))\n",
    "        plt.axis('off')\n",
    "        j+=1\n",
    "plt.show()"
   ]
  }
 ],
 "metadata": {
  "kernelspec": {
   "display_name": "Python 3",
   "language": "python",
   "name": "python3"
  },
  "language_info": {
   "codemirror_mode": {
    "name": "ipython",
    "version": 3
   },
   "file_extension": ".py",
   "mimetype": "text/x-python",
   "name": "python",
   "nbconvert_exporter": "python",
   "pygments_lexer": "ipython3",
   "version": "3.5.2"
  },
  "widgets": {
   "state": {},
   "version": "1.1.2"
  }
 },
 "nbformat": 4,
 "nbformat_minor": 2
}
