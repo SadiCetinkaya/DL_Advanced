{
 "cells": [
  {
   "cell_type": "code",
   "execution_count": null,
   "metadata": {},
   "outputs": [],
   "source": [
    "import mxnet as mx"
   ]
  },
  {
   "cell_type": "code",
   "execution_count": null,
   "metadata": {},
   "outputs": [],
   "source": [
    "import numpy as np\n",
    "x_input = mx.nd.empty((1, 5), mx.gpu())\n",
    "x_input[:] = np.array([[1,2,3,4,5]], np.float32)\n",
    "\n",
    "y_input = mx.nd.empty((1, 5), mx.cpu())\n",
    "y_input[:] = np.array([[10, 15, 20, 22.5, 25]], np.float32)"
   ]
  },
  {
   "cell_type": "code",
   "execution_count": null,
   "metadata": {},
   "outputs": [],
   "source": [
    "x_input\n",
    "w_input = x_input\n",
    "z_input = x_input.copyto(mx.cpu())\n",
    "x_input += 1\n",
    "w_input /= 2\n",
    "z_input *= 2"
   ]
  },
  {
   "cell_type": "code",
   "execution_count": null,
   "metadata": {},
   "outputs": [],
   "source": [
    "print(x_input.asnumpy())\n",
    "print(w_input.asnumpy())\n",
    "print(z_input.asnumpy())"
   ]
  },
  {
   "cell_type": "code",
   "execution_count": null,
   "metadata": {},
   "outputs": [],
   "source": [
    "batch_size = 1\n",
    "train_iter = mx.io.NDArrayIter(x_input, y_input, batch_size, shuffle=True, data_name='input', label_name='target')"
   ]
  },
  {
   "cell_type": "code",
   "execution_count": null,
   "metadata": {},
   "outputs": [],
   "source": [
    "X = mx.sym.Variable('input')\n",
    "Y = mx.symbol.Variable('target')\n",
    "fc1 = mx.sym.FullyConnected(data=X, name='fc1', num_hidden = 5)\n",
    "lin_reg = mx.sym.LinearRegressionOutput(data=fc1, label=Y, name=\"lin_reg\")"
   ]
  },
  {
   "cell_type": "code",
   "execution_count": null,
   "metadata": {},
   "outputs": [],
   "source": [
    "model = mx.mod.Module(\n",
    "    symbol = lin_reg,\n",
    "    data_names=['input'], \n",
    "    label_names = ['target']\n",
    ")"
   ]
  },
  {
   "cell_type": "code",
   "execution_count": null,
   "metadata": {},
   "outputs": [],
   "source": [
    "model.fit(train_iter,\n",
    "            optimizer_params={'learning_rate':0.01, 'momentum': 0.9},\n",
    "            num_epoch=100,\n",
    "            batch_end_callback = mx.callback.Speedometer(batch_size, 2))"
   ]
  },
  {
   "cell_type": "code",
   "execution_count": null,
   "metadata": {},
   "outputs": [],
   "source": [
    "model.predict(train_iter).asnumpy()"
   ]
  }
 ],
 "metadata": {
  "kernelspec": {
   "display_name": "Python 3",
   "language": "python",
   "name": "python3"
  },
  "language_info": {
   "codemirror_mode": {
    "name": "ipython",
    "version": 3
   },
   "file_extension": ".py",
   "mimetype": "text/x-python",
   "name": "python",
   "nbconvert_exporter": "python",
   "pygments_lexer": "ipython3",
   "version": "3.5.2"
  },
  "widgets": {
   "state": {},
   "version": "1.1.2"
  }
 },
 "nbformat": 4,
 "nbformat_minor": 2
}
